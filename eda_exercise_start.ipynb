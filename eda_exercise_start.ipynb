{
 "cells": [
  {
   "cell_type": "markdown",
   "metadata": {},
   "source": [
    "<font color='#43BFC7'>\n",
    "\n",
    "# **Think Like a Data Scientist - EDA Exercise**</font>\n",
    "\n",
    "The Seattle Fremont Bridge is a major birdge that connects two densely populated and historic neighborhoods in Seattle. Bicycle traffic surpasses 1 million rides annually. For this EDA exercise, city officials would like to see what can be learned from the data to predict bicycle traffic/demand (say, to help optimize load balancing).\n",
    "\n",
    "You are provided with 2 datasets for this exercise:\n",
    "1. `fremont-bridge-bicycle-counts.csv`: Bicycle counts from the inductive bicycle counters installed on both sides of the bridge since 2012.\n",
    "2. `NOAA_Seattle-data.csv`: Weather and atmospheric data from NOAA, for the same period of time.\n",
    "\n",
    "Your task is to explore the data and see what interesting findings you get from it! EDA exercises are by their nature very open ended. You often aren't given much direction in terms of what specifically to look for. Get a 'feel' for your data, see what's there, and think about how you might use it.\n",
    "<font color='#43BFC7'>\n",
    "\n",
    "**Goal: From your EDA, formulate 1 (or more) hypothesis that you'd like to test in a subsequent stage.**</font>\n",
    "\n",
    "*Note that you are provided a data dictionary for the NOAA Seattle data,see NOAA_Seattle-data_dictionary.txt*."
   ]
  },
  {
   "cell_type": "markdown",
   "metadata": {},
   "source": [
    "### Import libraries and read in data"
   ]
  },
  {
   "cell_type": "code",
   "execution_count": 11,
   "metadata": {},
   "outputs": [],
   "source": [
    "# Import libraries\n",
    "import pandas as pd\n",
    "import numpy as np\n",
    "import matplotlib.pyplot as plt\n",
    "import seaborn as sns\n",
    "pd.set_option('display.max_columns', 50)"
   ]
  },
  {
   "cell_type": "code",
   "execution_count": 12,
   "metadata": {},
   "outputs": [],
   "source": [
    "# Read in datasets:\n",
    "fremont = pd.read_csv('fremont-bridge-bicycle-counts.csv')\n",
    "noaa = pd.read_csv('NOAA_Seattle-data.csv')"
   ]
  },
  {
   "cell_type": "markdown",
   "metadata": {},
   "source": [
    "### Begin EDA"
   ]
  },
  {
   "cell_type": "code",
   "execution_count": 13,
   "metadata": {},
   "outputs": [
    {
     "name": "stdout",
     "output_type": "stream",
     "text": [
      "(62040, 4)\n",
      "(2585, 28)\n"
     ]
    }
   ],
   "source": [
    "# How big are the datasets (rows and columns)?\n",
    "print(fremont.shape)\n",
    "print(noaa.shape)"
   ]
  },
  {
   "cell_type": "code",
   "execution_count": 14,
   "metadata": {},
   "outputs": [
    {
     "data": {
      "text/html": [
       "<div>\n",
       "<style scoped>\n",
       "    .dataframe tbody tr th:only-of-type {\n",
       "        vertical-align: middle;\n",
       "    }\n",
       "\n",
       "    .dataframe tbody tr th {\n",
       "        vertical-align: top;\n",
       "    }\n",
       "\n",
       "    .dataframe thead th {\n",
       "        text-align: right;\n",
       "    }\n",
       "</style>\n",
       "<table border=\"1\" class=\"dataframe\">\n",
       "  <thead>\n",
       "    <tr style=\"text-align: right;\">\n",
       "      <th></th>\n",
       "      <th>Date</th>\n",
       "      <th>Fremont Bridge Total</th>\n",
       "      <th>Fremont Bridge East Sidewalk</th>\n",
       "      <th>Fremont Bridge West Sidewalk</th>\n",
       "    </tr>\n",
       "  </thead>\n",
       "  <tbody>\n",
       "    <tr>\n",
       "      <th>0</th>\n",
       "      <td>2012-10-03T00:00:00.000</td>\n",
       "      <td>13.0</td>\n",
       "      <td>4.0</td>\n",
       "      <td>9.0</td>\n",
       "    </tr>\n",
       "    <tr>\n",
       "      <th>1</th>\n",
       "      <td>2012-10-03T01:00:00.000</td>\n",
       "      <td>10.0</td>\n",
       "      <td>4.0</td>\n",
       "      <td>6.0</td>\n",
       "    </tr>\n",
       "    <tr>\n",
       "      <th>2</th>\n",
       "      <td>2012-10-03T02:00:00.000</td>\n",
       "      <td>2.0</td>\n",
       "      <td>1.0</td>\n",
       "      <td>1.0</td>\n",
       "    </tr>\n",
       "    <tr>\n",
       "      <th>3</th>\n",
       "      <td>2012-10-03T03:00:00.000</td>\n",
       "      <td>5.0</td>\n",
       "      <td>2.0</td>\n",
       "      <td>3.0</td>\n",
       "    </tr>\n",
       "    <tr>\n",
       "      <th>4</th>\n",
       "      <td>2012-10-03T04:00:00.000</td>\n",
       "      <td>7.0</td>\n",
       "      <td>6.0</td>\n",
       "      <td>1.0</td>\n",
       "    </tr>\n",
       "  </tbody>\n",
       "</table>\n",
       "</div>"
      ],
      "text/plain": [
       "                      Date  Fremont Bridge Total  \\\n",
       "0  2012-10-03T00:00:00.000                  13.0   \n",
       "1  2012-10-03T01:00:00.000                  10.0   \n",
       "2  2012-10-03T02:00:00.000                   2.0   \n",
       "3  2012-10-03T03:00:00.000                   5.0   \n",
       "4  2012-10-03T04:00:00.000                   7.0   \n",
       "\n",
       "   Fremont Bridge East Sidewalk  Fremont Bridge West Sidewalk  \n",
       "0                           4.0                           9.0  \n",
       "1                           4.0                           6.0  \n",
       "2                           1.0                           1.0  \n",
       "3                           2.0                           3.0  \n",
       "4                           6.0                           1.0  "
      ]
     },
     "execution_count": 14,
     "metadata": {},
     "output_type": "execute_result"
    }
   ],
   "source": [
    "# Take a look at the data (the .head(n) method displays the top n rows):\n",
    "fremont.head()"
   ]
  },
  {
   "cell_type": "code",
   "execution_count": 15,
   "metadata": {},
   "outputs": [
    {
     "data": {
      "text/html": [
       "<div>\n",
       "<style scoped>\n",
       "    .dataframe tbody tr th:only-of-type {\n",
       "        vertical-align: middle;\n",
       "    }\n",
       "\n",
       "    .dataframe tbody tr th {\n",
       "        vertical-align: top;\n",
       "    }\n",
       "\n",
       "    .dataframe thead th {\n",
       "        text-align: right;\n",
       "    }\n",
       "</style>\n",
       "<table border=\"1\" class=\"dataframe\">\n",
       "  <thead>\n",
       "    <tr style=\"text-align: right;\">\n",
       "      <th></th>\n",
       "      <th>STATION</th>\n",
       "      <th>NAME</th>\n",
       "      <th>DATE</th>\n",
       "      <th>AWND</th>\n",
       "      <th>PGTM</th>\n",
       "      <th>PRCP</th>\n",
       "      <th>SNOW</th>\n",
       "      <th>SNWD</th>\n",
       "      <th>TAVG</th>\n",
       "      <th>TMAX</th>\n",
       "      <th>TMIN</th>\n",
       "      <th>WDF2</th>\n",
       "      <th>WDF5</th>\n",
       "      <th>WSF2</th>\n",
       "      <th>WSF5</th>\n",
       "      <th>FOG</th>\n",
       "      <th>HEAVY-FOG_MIST</th>\n",
       "      <th>THUNDER</th>\n",
       "      <th>ICE-PELLETS</th>\n",
       "      <th>HAIL</th>\n",
       "      <th>GLAZE</th>\n",
       "      <th>SMOKE</th>\n",
       "      <th>BLOWING-SNOW</th>\n",
       "      <th>MIST</th>\n",
       "      <th>DRIZZLE</th>\n",
       "      <th>RAIN</th>\n",
       "      <th>SNOW.1</th>\n",
       "      <th>FREEZING-RAIN</th>\n",
       "    </tr>\n",
       "  </thead>\n",
       "  <tbody>\n",
       "    <tr>\n",
       "      <th>0</th>\n",
       "      <td>USW00024233</td>\n",
       "      <td>SEATTLE TACOMA AIRPORT, WA US</td>\n",
       "      <td>2012-10-03</td>\n",
       "      <td>16.33</td>\n",
       "      <td>NaN</td>\n",
       "      <td>0.0</td>\n",
       "      <td>0.0</td>\n",
       "      <td>0.0</td>\n",
       "      <td>NaN</td>\n",
       "      <td>66</td>\n",
       "      <td>46</td>\n",
       "      <td>10</td>\n",
       "      <td>20.0</td>\n",
       "      <td>23.0</td>\n",
       "      <td>28.0</td>\n",
       "      <td>NaN</td>\n",
       "      <td>NaN</td>\n",
       "      <td>NaN</td>\n",
       "      <td>NaN</td>\n",
       "      <td>NaN</td>\n",
       "      <td>NaN</td>\n",
       "      <td>NaN</td>\n",
       "      <td>NaN</td>\n",
       "      <td>NaN</td>\n",
       "      <td>NaN</td>\n",
       "      <td>NaN</td>\n",
       "      <td>NaN</td>\n",
       "      <td>NaN</td>\n",
       "    </tr>\n",
       "    <tr>\n",
       "      <th>1</th>\n",
       "      <td>USW00024233</td>\n",
       "      <td>SEATTLE TACOMA AIRPORT, WA US</td>\n",
       "      <td>2012-10-04</td>\n",
       "      <td>14.54</td>\n",
       "      <td>NaN</td>\n",
       "      <td>0.0</td>\n",
       "      <td>0.0</td>\n",
       "      <td>0.0</td>\n",
       "      <td>NaN</td>\n",
       "      <td>66</td>\n",
       "      <td>47</td>\n",
       "      <td>20</td>\n",
       "      <td>20.0</td>\n",
       "      <td>21.0</td>\n",
       "      <td>25.1</td>\n",
       "      <td>NaN</td>\n",
       "      <td>NaN</td>\n",
       "      <td>NaN</td>\n",
       "      <td>NaN</td>\n",
       "      <td>NaN</td>\n",
       "      <td>NaN</td>\n",
       "      <td>NaN</td>\n",
       "      <td>NaN</td>\n",
       "      <td>NaN</td>\n",
       "      <td>NaN</td>\n",
       "      <td>NaN</td>\n",
       "      <td>NaN</td>\n",
       "      <td>NaN</td>\n",
       "    </tr>\n",
       "    <tr>\n",
       "      <th>2</th>\n",
       "      <td>USW00024233</td>\n",
       "      <td>SEATTLE TACOMA AIRPORT, WA US</td>\n",
       "      <td>2012-10-05</td>\n",
       "      <td>12.75</td>\n",
       "      <td>NaN</td>\n",
       "      <td>0.0</td>\n",
       "      <td>0.0</td>\n",
       "      <td>0.0</td>\n",
       "      <td>NaN</td>\n",
       "      <td>71</td>\n",
       "      <td>48</td>\n",
       "      <td>360</td>\n",
       "      <td>360.0</td>\n",
       "      <td>17.9</td>\n",
       "      <td>21.9</td>\n",
       "      <td>NaN</td>\n",
       "      <td>NaN</td>\n",
       "      <td>NaN</td>\n",
       "      <td>NaN</td>\n",
       "      <td>NaN</td>\n",
       "      <td>NaN</td>\n",
       "      <td>NaN</td>\n",
       "      <td>NaN</td>\n",
       "      <td>NaN</td>\n",
       "      <td>NaN</td>\n",
       "      <td>NaN</td>\n",
       "      <td>NaN</td>\n",
       "      <td>NaN</td>\n",
       "    </tr>\n",
       "  </tbody>\n",
       "</table>\n",
       "</div>"
      ],
      "text/plain": [
       "       STATION                           NAME        DATE   AWND  PGTM  PRCP  \\\n",
       "0  USW00024233  SEATTLE TACOMA AIRPORT, WA US  2012-10-03  16.33   NaN   0.0   \n",
       "1  USW00024233  SEATTLE TACOMA AIRPORT, WA US  2012-10-04  14.54   NaN   0.0   \n",
       "2  USW00024233  SEATTLE TACOMA AIRPORT, WA US  2012-10-05  12.75   NaN   0.0   \n",
       "\n",
       "   SNOW  SNWD  TAVG  TMAX  TMIN  WDF2   WDF5  WSF2  WSF5  FOG  HEAVY-FOG_MIST  \\\n",
       "0   0.0   0.0   NaN    66    46    10   20.0  23.0  28.0  NaN             NaN   \n",
       "1   0.0   0.0   NaN    66    47    20   20.0  21.0  25.1  NaN             NaN   \n",
       "2   0.0   0.0   NaN    71    48   360  360.0  17.9  21.9  NaN             NaN   \n",
       "\n",
       "   THUNDER  ICE-PELLETS  HAIL  GLAZE  SMOKE  BLOWING-SNOW  MIST  DRIZZLE  \\\n",
       "0      NaN          NaN   NaN    NaN    NaN           NaN   NaN      NaN   \n",
       "1      NaN          NaN   NaN    NaN    NaN           NaN   NaN      NaN   \n",
       "2      NaN          NaN   NaN    NaN    NaN           NaN   NaN      NaN   \n",
       "\n",
       "   RAIN  SNOW.1  FREEZING-RAIN  \n",
       "0   NaN     NaN            NaN  \n",
       "1   NaN     NaN            NaN  \n",
       "2   NaN     NaN            NaN  "
      ]
     },
     "execution_count": 15,
     "metadata": {},
     "output_type": "execute_result"
    }
   ],
   "source": [
    "# Take a look at the other dataset:\n",
    "noaa.head(3)"
   ]
  },
  {
   "cell_type": "code",
   "execution_count": 16,
   "metadata": {},
   "outputs": [
    {
     "data": {
      "text/plain": [
       "Date                             object\n",
       "Fremont Bridge Total            float64\n",
       "Fremont Bridge East Sidewalk    float64\n",
       "Fremont Bridge West Sidewalk    float64\n",
       "dtype: object"
      ]
     },
     "execution_count": 16,
     "metadata": {},
     "output_type": "execute_result"
    }
   ],
   "source": [
    "# Take a look at the data types of your fields:\n",
    "fremont.dtypes"
   ]
  },
  {
   "cell_type": "code",
   "execution_count": 19,
   "metadata": {},
   "outputs": [
    {
     "data": {
      "text/html": [
       "<div>\n",
       "<style scoped>\n",
       "    .dataframe tbody tr th:only-of-type {\n",
       "        vertical-align: middle;\n",
       "    }\n",
       "\n",
       "    .dataframe tbody tr th {\n",
       "        vertical-align: top;\n",
       "    }\n",
       "\n",
       "    .dataframe thead th {\n",
       "        text-align: right;\n",
       "    }\n",
       "</style>\n",
       "<table border=\"1\" class=\"dataframe\">\n",
       "  <thead>\n",
       "    <tr style=\"text-align: right;\">\n",
       "      <th></th>\n",
       "      <th>date</th>\n",
       "      <th>total</th>\n",
       "      <th>east_sw</th>\n",
       "      <th>west_sw</th>\n",
       "    </tr>\n",
       "  </thead>\n",
       "  <tbody>\n",
       "    <tr>\n",
       "      <th>0</th>\n",
       "      <td>2012-10-03T00:00:00.000</td>\n",
       "      <td>13.0</td>\n",
       "      <td>4.0</td>\n",
       "      <td>9.0</td>\n",
       "    </tr>\n",
       "    <tr>\n",
       "      <th>1</th>\n",
       "      <td>2012-10-03T01:00:00.000</td>\n",
       "      <td>10.0</td>\n",
       "      <td>4.0</td>\n",
       "      <td>6.0</td>\n",
       "    </tr>\n",
       "  </tbody>\n",
       "</table>\n",
       "</div>"
      ],
      "text/plain": [
       "                      date  total  east_sw  west_sw\n",
       "0  2012-10-03T00:00:00.000   13.0      4.0      9.0\n",
       "1  2012-10-03T01:00:00.000   10.0      4.0      6.0"
      ]
     },
     "execution_count": 19,
     "metadata": {},
     "output_type": "execute_result"
    }
   ],
   "source": [
    "# This is how you can rename columns in your dataframe:\n",
    "new_names = {\n",
    "    'Date': 'date',\n",
    "    'Fremont Bridge Total':'total',\n",
    "    'Fremont Bridge East Sidewalk':'east_sw',\n",
    "    'Fremont Bridge West Sidewalk':'west_sw',\n",
    "}\n",
    "\n",
    "fremont.rename(columns=new_names, inplace=True)\n",
    "fremont.head(2)"
   ]
  },
  {
   "cell_type": "code",
   "execution_count": 24,
   "metadata": {},
   "outputs": [],
   "source": [
    "# Let's convert the date field to a datetime type (instead of string):\n",
    "fremont['date'] = pd.to_datetime(fremont['date'])"
   ]
  },
  {
   "cell_type": "code",
   "execution_count": 34,
   "metadata": {},
   "outputs": [
    {
     "data": {
      "image/png": "[encoded data removed]",
      "text/plain": [
       "<Figure size 1000x400 with 1 Axes>"
      ]
     },
     "metadata": {},
     "output_type": "display_data"
    }
   ],
   "source": [
    "# Let's draw a basic plot:\n",
    "plt.figure(figsize=(10, 4))\n",
    "plt.plot(fremont['date'], fremont['total'], c='tab:blue', label='Total')\n",
    "plt.plot(fremont['date'], fremont['west_sw'], c='tab:orange', label='West Sidewalk')\n",
    "plt.plot(fremont['date'], fremont['east_sw'], c='tab:green', label='East Sidewalk')\n",
    "plt.legend()\n",
    "plt.show()"
   ]
  },
  {
   "cell_type": "markdown",
   "metadata": {},
   "source": [
    "Notice anything interesting in the above graph?"
   ]
  },
  {
   "cell_type": "markdown",
   "metadata": {},
   "source": [
    "### Now, your turn..."
   ]
  },
  {
   "cell_type": "code",
   "execution_count": null,
   "metadata": {},
   "outputs": [],
   "source": []
  },
  {
   "cell_type": "code",
   "execution_count": null,
   "metadata": {},
   "outputs": [],
   "source": []
  },
  {
   "cell_type": "code",
   "execution_count": null,
   "metadata": {},
   "outputs": [],
   "source": []
  }
 ],
 "metadata": {
  "kernelspec": {
   "display_name": "base",
   "language": "python",
   "name": "python3"
  },
  "language_info": {
   "codemirror_mode": {
    "name": "ipython",
    "version": 3
   },
   "file_extension": ".py",
   "mimetype": "text/x-python",
   "name": "python",
   "nbconvert_exporter": "python",
   "pygments_lexer": "ipython3",
   "version": "3.11.4"
  }
 },
 "nbformat": 4,
 "nbformat_minor": 2
}
